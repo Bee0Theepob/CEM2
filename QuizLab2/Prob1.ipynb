{
 "cells": [
  {
   "cell_type": "code",
   "execution_count": 3,
   "metadata": {},
   "outputs": [],
   "source": [
    "import pulp"
   ]
  },
  {
   "cell_type": "code",
   "execution_count": 4,
   "metadata": {},
   "outputs": [
    {
     "name": "stdout",
     "output_type": "stream",
     "text": [
      "Optimal value of x1: 0.0\n",
      "Optimal value of x2: 14.0\n",
      "Optimal value of x3: 0.0\n",
      "Optimal value of x4: 2.0\n",
      "Optimal value of x5: 0.0\n",
      "Optimal value of x6: 0.0\n",
      "objective value 190000.0\n"
     ]
    }
   ],
   "source": [
    "prob = pulp.LpProblem(\"Ham_Deng\",pulp.LpMinimize)\n",
    "\n",
    "x1 = pulp.LpVariable('x1',lowBound=0,cat='Integer')  \n",
    "x2 = pulp.LpVariable('x2',lowBound=0,cat='Integer')  \n",
    "x3 = pulp.LpVariable('x3',lowBound=0,cat='Integer')  \n",
    "x4 = pulp.LpVariable('x4',lowBound=0,cat='Integer') \n",
    "x5 = pulp.LpVariable('x5',lowBound=0,cat='Integer')  \n",
    "x6 = pulp.LpVariable('x6',lowBound=0,cat='Integer')\n",
    "y = pulp.LpVariable('y',lowBound=0,cat='Binary')\n",
    "\n",
    "#obj\n",
    "prob += 1000*x1+10000*x2+10000*x3+25000*x4+50000*x5+600000*x6\n",
    "\n",
    "#st\n",
    "prob += 1000*x1+50000*x2+20000*x3+150000*x4+50000*x5+500000*x6>=1000000\n",
    "prob += x1<=30\n",
    "prob += x2<=30\n",
    "prob += x3<=30\n",
    "prob += x4<=2\n",
    "prob += x5<=6\n",
    "prob += x6<=15\n",
    "prob += x5<=100000000*y\n",
    "prob += x6<=100000000*(1-y)\n",
    "\n",
    "prob.solve()\n",
    "print(f\"Optimal value of x1: {x1.varValue}\")\n",
    "print(f\"Optimal value of x2: {x2.varValue}\")\n",
    "print(f\"Optimal value of x3: {x3.varValue}\")\n",
    "print(f\"Optimal value of x4: {x4.varValue}\")\n",
    "print(f\"Optimal value of x5: {x5.varValue}\")\n",
    "print(f\"Optimal value of x6: {x6.varValue}\")\n",
    "print(\"objective value\",pulp.value(prob.objective))\n",
    "\n",
    "\n",
    "\n"
   ]
  }
 ],
 "metadata": {
  "kernelspec": {
   "display_name": "Python 3",
   "language": "python",
   "name": "python3"
  },
  "language_info": {
   "codemirror_mode": {
    "name": "ipython",
    "version": 3
   },
   "file_extension": ".py",
   "mimetype": "text/x-python",
   "name": "python",
   "nbconvert_exporter": "python",
   "pygments_lexer": "ipython3",
   "version": "3.12.3"
  }
 },
 "nbformat": 4,
 "nbformat_minor": 2
}

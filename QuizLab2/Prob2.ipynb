{
 "cells": [
  {
   "cell_type": "code",
   "execution_count": 7,
   "metadata": {},
   "outputs": [],
   "source": [
    "import pulp"
   ]
  },
  {
   "cell_type": "code",
   "execution_count": 8,
   "metadata": {},
   "outputs": [
    {
     "name": "stdout",
     "output_type": "stream",
     "text": [
      "Optimal value of m: 7.2083333,0.0,0.0,3.0\n",
      "Optimal value of t: 0.0,8.2380952,0.0,3.0\n",
      "Optimal value of w: 7.2083333,0.0,0.0,3.0\n",
      "Optimal value of th: 0.0,8.2380952,0.0,3.0\n",
      "Optimal value of f: 0.0,8.9880952,1.875,0.0\n",
      "objective value 1638.7499939999998\n"
     ]
    }
   ],
   "source": [
    "prob = pulp.LpProblem(\"The_Buff_Boss\", pulp.LpMinimize)\n",
    "\n",
    "m1 = pulp.LpVariable('m1', lowBound=0, cat='Continuous')  \n",
    "m2 = pulp.LpVariable('m2', lowBound=0, cat='Continuous')  \n",
    "m3 = pulp.LpVariable('m3', lowBound=0, cat='Continuous')  \n",
    "m4 = pulp.LpVariable('m4', lowBound=0, cat='Continuous')  \n",
    "\n",
    "t1 = pulp.LpVariable('t1', lowBound=0, cat='Continuous')  \n",
    "t2 = pulp.LpVariable('t2', lowBound=0, cat='Continuous')  \n",
    "t3 = pulp.LpVariable('t3', lowBound=0, cat='Continuous')  \n",
    "t4 = pulp.LpVariable('t4', lowBound=0, cat='Continuous')  \n",
    "\n",
    "w1 = pulp.LpVariable('w1', lowBound=0, cat='Continuous')  \n",
    "w2 = pulp.LpVariable('w2', lowBound=0, cat='Continuous')  \n",
    "w3 = pulp.LpVariable('w3', lowBound=0, cat='Continuous')  \n",
    "w4 = pulp.LpVariable('w4', lowBound=0, cat='Continuous')  \n",
    "\n",
    "th1 = pulp.LpVariable('th1', lowBound=0, cat='Continuous')  \n",
    "th2 = pulp.LpVariable('th2', lowBound=0, cat='Continuous')  \n",
    "th3 = pulp.LpVariable('th3', lowBound=0, cat='Continuous')  \n",
    "th4 = pulp.LpVariable('th4', lowBound=0, cat='Continuous') \n",
    "\n",
    "f1 = pulp.LpVariable('f1', lowBound=0, cat='Continuous')  \n",
    "f2 = pulp.LpVariable('f2', lowBound=0, cat='Continuous')  \n",
    "f3 = pulp.LpVariable('f3', lowBound=0, cat='Continuous')  \n",
    "f4 = pulp.LpVariable('f4', lowBound=0, cat='Continuous')  \n",
    "\n",
    "#obj\n",
    "prob += 30*(m1+t1+w1+th1+f1)+35*(m2+t2+w2+th2+f2)+40*(m3+t3+w3+th3+f3)+20*(m4+t4+w4+th4+f4)\n",
    "\n",
    "#st\n",
    "prob += 24*m1+21*m2+6*m3+9*m4>=200\n",
    "prob += 80*m3+50*m4>=150\n",
    "\n",
    "prob += t1==0\n",
    "prob += 24*t1+21*t2+6*t3+9*t4>=200\n",
    "prob += 80*t3+50*t4>=150\n",
    "\n",
    "prob += 24*w1+21*w2+6*w3+9*w4>=200\n",
    "prob += 80*w3+50*w4>=150\n",
    "\n",
    "prob += 24*th1+21*th2+6*th3+9*th4>=200\n",
    "prob += 80*th3+50*th4>=150\n",
    "prob += th1==0\n",
    "\n",
    "prob += 24*f1+21*f2+6*f3+9*f4>=200\n",
    "prob += 80*f3+50*f4>=150\n",
    "prob += f1==0\n",
    "prob += f4==0\n",
    "\n",
    "prob.solve()\n",
    "\n",
    "print(f\"Optimal value of m: {m1.varValue},{m2.varValue},{m3.varValue},{m4.varValue}\")\n",
    "print(f\"Optimal value of t: {t1.varValue},{t2.varValue},{t3.varValue},{t4.varValue}\")\n",
    "print(f\"Optimal value of w: {w1.varValue},{w2.varValue},{w3.varValue},{w4.varValue}\")\n",
    "print(f\"Optimal value of th: {th1.varValue},{th2.varValue},{th3.varValue},{th4.varValue}\")\n",
    "print(f\"Optimal value of f: {f1.varValue},{f2.varValue},{f3.varValue},{f4.varValue}\")\n",
    "\n",
    "print(\"objective value\",pulp.value(prob.objective))"
   ]
  }
 ],
 "metadata": {
  "kernelspec": {
   "display_name": "Python 3",
   "language": "python",
   "name": "python3"
  },
  "language_info": {
   "codemirror_mode": {
    "name": "ipython",
    "version": 3
   },
   "file_extension": ".py",
   "mimetype": "text/x-python",
   "name": "python",
   "nbconvert_exporter": "python",
   "pygments_lexer": "ipython3",
   "version": "3.12.3"
  }
 },
 "nbformat": 4,
 "nbformat_minor": 2
}

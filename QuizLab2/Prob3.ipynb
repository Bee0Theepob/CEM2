{
 "cells": [
  {
   "cell_type": "code",
   "execution_count": 1,
   "metadata": {},
   "outputs": [],
   "source": [
    "import pulp"
   ]
  },
  {
   "cell_type": "code",
   "execution_count": 2,
   "metadata": {},
   "outputs": [
    {
     "name": "stdout",
     "output_type": "stream",
     "text": [
      "0.0,1.0,0.0,1.0,0.0,0.0,\n",
      "\n",
      "0.0,0.0,1.0,0.0,1.0,0.0,\n",
      "\n",
      "1.0,0.0,0.0,0.0,0.0,1.0,\n",
      "\n",
      "0.0,0.0,0.0,0.0,0.0,0.0,\n",
      "\n",
      "0.0,0.0,0.0,0.0,0.0,0.0,\n",
      "\n",
      "0.0,0.0,0.0,0.0,0.0,0.0,\n",
      "\n",
      "objective value 3.0\n"
     ]
    }
   ],
   "source": [
    "h = [6, 4, 8, 6, 2, 4]\n",
    "\n",
    "prob = pulp.LpProblem(\"Deadline_Drive_Development\", pulp.LpMinimize)\n",
    "\n",
    "fin = [[pulp.LpVariable(f'fin_{j}_{i}', lowBound=0, cat=\"Binary\") for i in range(6)] for j in range(6)]  \n",
    "do = [pulp.LpVariable(f'do{i}', lowBound=0, cat=\"Binary\") for i in range(6)]\n",
    "\n",
    "#obj\n",
    "prob += do[0]+do[1]+do[2]+do[3]+do[4]+do[5]\n",
    "\n",
    "#st\n",
    "for i in range(6):\n",
    "    for j in range(6):\n",
    "        prob += do[i] >= fin[i][j]\n",
    "\n",
    "for j in range(6):\n",
    "    prob += pulp.lpSum(h[i] * fin[j][i] for i in range(6)) <= 10\n",
    "\n",
    "for i in range(6):\n",
    "    prob += pulp.lpSum(fin[j][i] for j in range(6)) == 1\n",
    "\n",
    "prob += pulp.lpSum([[fin[j][i] for i in range(6)]for j in range(6)]) == 6\n",
    "\n",
    "for i in range(6):\n",
    "    prob += fin[i][0]+fin[i][1] <= 1\n",
    "\n",
    "for i in range(6):\n",
    "    prob += pulp.lpSum([fin[j][3]+fin[j][4]-2*fin[j][5] for j in range(i)])>= 0\n",
    "\n",
    "for i in range(1,6):\n",
    "    prob += do[i]<=do[i-1]\n",
    "\n",
    "prob.solve()\n",
    "\n",
    "for i in range(6):\n",
    "    for j in range(6):\n",
    "        print(fin[i][j].varValue,end=\",\")\n",
    "    print(\"\\n\")\n",
    "\n",
    "print(\"objective value\",pulp.value(prob.objective))"
   ]
  }
 ],
 "metadata": {
  "kernelspec": {
   "display_name": "Python 3",
   "language": "python",
   "name": "python3"
  },
  "language_info": {
   "codemirror_mode": {
    "name": "ipython",
    "version": 3
   },
   "file_extension": ".py",
   "mimetype": "text/x-python",
   "name": "python",
   "nbconvert_exporter": "python",
   "pygments_lexer": "ipython3",
   "version": "3.12.3"
  }
 },
 "nbformat": 4,
 "nbformat_minor": 2
}

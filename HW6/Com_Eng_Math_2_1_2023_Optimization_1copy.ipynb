{
  "cells": [
    {
      "cell_type": "markdown",
      "metadata": {
        "id": "3wKhYNWWJh1t"
      },
      "source": [
        "# **<< Only problem 3.1 will be graded. >>**"
      ]
    },
    {
      "cell_type": "markdown",
      "metadata": {
        "id": "qSEdChfKkpcj"
      },
      "source": [
        "## Problem 3.1 : Storage server management\n",
        "\n",
        "A company is running a video analytic system. To store the analyzed videos, the company has 10 local storage servers to store the data, of which each of them could store 24 TB per server. Recently, the company finds out that the servers  they have will not be adequate in the recent future. Therefore, the company has to figure out a plan to scale up its resource. The CTO has come up with two solutions, which are buying new storage servers, and using a cloud storage service called 'SWA S3'. The cloud storage service charges 690 THB/TB per month. On the other hand, buying a new server costs 40,000 THB, but it could be used for a very long time.  After several discussions, the company has projected the amount of storage required for each month. The projected data is shown in the table below. To minimize the cost, what should the company do to store the data? Formulate the problem as a linear program and solve for an optimal solution.\n",
        "\n",
        "**Note 1 : The optimal solution does not have to be an integer.** </br>\n",
        "**Note 2 : The company could buy new servers at any month.**\n",
        "\n",
        "|  Month | 1  |  2 |  3 |  4 | 5 | 6 | 7 | 8 |\n",
        "|:-:|:-:|:-:|:-:|:-:|:-:|:-:|:-:|:-:|\n",
        "| Estimated amount of storage required (TB) | 140 | 200 | 300 | 1000 | 1400| 500 | 600 | 900 | 700 |"
      ]
    },
    {
      "cell_type": "code",
      "execution_count": 15,
      "metadata": {},
      "outputs": [
        {
          "name": "stdout",
          "output_type": "stream",
          "text": [
            "Optimal value of x1: 148.0\n",
            "Optimal value of x2: 0.0\n",
            "Optimal value of x3: 0.0\n",
            "Optimal value of x4: 0.0\n",
            "Optimal value of x5: 0.0\n",
            "Optimal value of x6: 0.0\n",
            "Optimal value of x7: 0.0\n",
            "Optimal value of x8: 0.0\n",
            "Optimal value of y1: 0.0\n",
            "Optimal value of y2: 0.0\n",
            "Optimal value of y3: 0.0\n",
            "Optimal value of y4: 0.0\n",
            "Optimal value of y5: 0.0\n",
            "Optimal value of y6: 0.0\n",
            "Optimal value of y7: 588.0\n",
            "Optimal value of y8: 900.0\n",
            "total cost= 1432440.0\n"
          ]
        }
      ],
      "source": [
        "import pulp\n",
        "\n",
        "prob = pulp.LpProblem(\"Integer_Problem\", pulp.LpMinimize)\n",
        "\n",
        "#y_i is number of cloud\n",
        "#x_i is number of server\n",
        "x1 = pulp.LpVariable('x1', lowBound=0, cat='Integer')  \n",
        "x2 = pulp.LpVariable('x2', lowBound=0, cat='Integer')  \n",
        "x3 = pulp.LpVariable('x3', lowBound=0, cat='Integer')  \n",
        "x4 = pulp.LpVariable('x4', lowBound=0, cat='Integer')  \n",
        "x5 = pulp.LpVariable('x5', lowBound=0, cat='Integer')  \n",
        "x6 = pulp.LpVariable('x6', lowBound=0, cat='Integer')  \n",
        "x7 = pulp.LpVariable('x7', lowBound=0, cat='Integer')  \n",
        "x8 = pulp.LpVariable('x8', lowBound=0, cat='Integer')  \n",
        "y1 = pulp.LpVariable('y1', lowBound=0, cat='Integer')\n",
        "y2 = pulp.LpVariable('y2', lowBound=0, cat='Integer')\n",
        "y3 = pulp.LpVariable('y3', lowBound=0, cat='Integer')\n",
        "y4 = pulp.LpVariable('y4', lowBound=0, cat='Integer')\n",
        "y5 = pulp.LpVariable('y5', lowBound=0, cat='Integer')\n",
        "y6 = pulp.LpVariable('y6', lowBound=0, cat='Integer')\n",
        "y7 = pulp.LpVariable('y7', lowBound=0, cat='Integer')\n",
        "y8 = pulp.LpVariable('y8', lowBound=0, cat='Integer')\n",
        "#obj\n",
        "prob += 5520*y1 + 4830*y2 + 4140*y3 + 3450*y4 + 2760*y5 + 2070*y6 + 1380*y7 + 690*y8 + 40000*(x1+x2+x3+x4+x5+x6+x7+x8)\n",
        "#st\n",
        "prob += y1 + 24*x1 >= 140\n",
        "prob += y1 + 24*x1 + y2 + 24*x2 >= 340\n",
        "prob += y1 + 24*x1 + y2 + 24*x2 + y3 + 24*x3 >= 640\n",
        "prob += y1 + 24*x1 + y2 + 24*x2 + y3 + 24*x3 + y4 + 24*x4 >= 1640\n",
        "prob += y1 + 24*x1 + y2 + 24*x2 + y3 + 24*x3 + y4 + 24*x4 + y5 + 24*x5 >= 3040\n",
        "prob += y1 + 24*x1 + y2 + 24*x2 + y3 + 24*x3 + y4 + 24*x4 + y5 + 24*x5 + y6 + 24*x6 >= 3540\n",
        "prob += y1 + 24*x1 + y2 + 24*x2 + y3 + 24*x3 + y4 + 24*x4 + y5 + 24*x5 + y6 + 24*x6 + y7 + 24*x7 >= 4140\n",
        "prob += y1 + 24*x1 + y2 + 24*x2 + y3 + 24*x3 + y4 + 24*x4 + y5 + 24*x5 + y6 + 24*x6 + y7 + 24*x7 + y8 + 24*x8 >= 5040\n",
        "\n",
        "prob.solve()\n",
        "\n",
        "print(f\"Optimal value of x1: {x1.varValue}\")\n",
        "print(f\"Optimal value of x2: {x2.varValue}\")\n",
        "print(f\"Optimal value of x3: {x3.varValue}\")\n",
        "print(f\"Optimal value of x4: {x4.varValue}\")\n",
        "print(f\"Optimal value of x5: {x5.varValue}\")\n",
        "print(f\"Optimal value of x6: {x6.varValue}\")\n",
        "print(f\"Optimal value of x7: {x7.varValue}\")\n",
        "print(f\"Optimal value of x8: {x8.varValue}\")\n",
        "print(f\"Optimal value of y1: {y1.varValue}\")\n",
        "print(f\"Optimal value of y2: {y2.varValue}\")\n",
        "print(f\"Optimal value of y3: {y3.varValue}\")\n",
        "print(f\"Optimal value of y4: {y4.varValue}\")\n",
        "print(f\"Optimal value of y5: {y5.varValue}\")\n",
        "print(f\"Optimal value of y6: {y6.varValue}\")\n",
        "print(f\"Optimal value of y7: {y7.varValue}\")\n",
        "print(f\"Optimal value of y8: {y8.varValue}\")\n",
        "\n",
        "result = 5520*y1.varValue + 4830*y2.varValue + 4140*y3.varValue + 3450*y4.varValue + 2760*y5.varValue + 2070*y6.varValue + 1380*y7.varValue + 690*y8.varValue \n",
        "+ 40000*(x1.varValue+x2.varValue+x3.varValue+x4.varValue+x5.varValue+x6.varValue+x7.varValue+x8.varValue)\n",
        "print(\"total cost= \"+str(result))"
      ]
    },
    {
      "cell_type": "code",
      "execution_count": 16,
      "metadata": {},
      "outputs": [
        {
          "name": "stdout",
          "output_type": "stream",
          "text": [
            "Optimal cloud storage: {1: 0.0, 2: 0.0, 3: 0.0, 4: 0.0, 5: 8.0, 6: 0.0, 7: 0.0, 8: 0.0}\n",
            "Optimal servers purchased: {1: 0.0, 2: 0.0, 3: 3.0, 4: 48.0, 5: 48.0, 6: 48.0, 7: 48.0, 8: 48.0}\n",
            "Total cost: 1942080.0\n"
          ]
        }
      ],
      "source": [
        "#gpt\n",
        "\n",
        "import pulp\n",
        "\n",
        "# Define the storage requirements for each month (in TB)\n",
        "storage_requirements = [140, 200, 300, 1000, 1400, 500, 600, 900]\n",
        "\n",
        "# Constants\n",
        "initial_storage_capacity = 240  # 10 servers * 24 TB each\n",
        "server_capacity = 24  # Each new server provides 24 TB\n",
        "server_cost = 40000  # Cost of each new server (THB)\n",
        "cloud_cost_per_tb = 690  # Cloud storage cost per TB per month (THB)\n",
        "months = range(1, 9)  # Months 1 to 8\n",
        "\n",
        "# Create a linear programming problem\n",
        "lp_problem = pulp.LpProblem(\"Storage_Minimization_Problem\", pulp.LpMinimize)\n",
        "\n",
        "# Decision variables\n",
        "x = pulp.LpVariable.dicts(\"Cloud_Storage\", months, lowBound=0, cat='Integer')  # Cloud storage in each month (TB)\n",
        "y = pulp.LpVariable.dicts(\"Servers_Purchased\", months, lowBound=0, cat='Integer')  # Servers purchased in each month (integer)\n",
        "\n",
        "# Storage capacity from new servers in each month\n",
        "s = pulp.LpVariable.dicts(\"Server_Capacity\", months, lowBound=0, cat='Continuous')\n",
        "\n",
        "# Objective function: Minimize total cost (cloud storage cost + server purchase cost)\n",
        "lp_problem += pulp.lpSum([cloud_cost_per_tb * x[m] * (9-m) for m in months]) + server_cost * y[8], \"Total_Cost\"\n",
        "\n",
        "# Constraints\n",
        "for m in months:\n",
        "    # Capacity constraint: The total available storage (initial + new servers + cloud) must meet storage requirements\n",
        "    lp_problem += initial_storage_capacity + s[m] + x[m] >= storage_requirements[m-1], f\"Storage_Capacity_Constraint_Month_{m}\"\n",
        "\n",
        "    # Server capacity consistency: Capacity from new servers can't decrease over time\n",
        "    if m > 1:\n",
        "        lp_problem += s[m] >= s[m-1], f\"Server_Consistency_Constraint_Month_{m}\"\n",
        "\n",
        "    # Server capacity is linked to the number of servers purchased\n",
        "    lp_problem += s[m] == server_capacity * y[m], f\"Server_Capacity_Link_Month_{m}\"\n",
        "\n",
        "# Solve the problem\n",
        "lp_problem.solve()\n",
        "\n",
        "# Extract the results\n",
        "optimal_cloud_storage = {m: x[m].varValue for m in months}\n",
        "optimal_servers_purchased = {m: y[m].varValue for m in months}\n",
        "total_cost = pulp.value(lp_problem.objective)\n",
        "\n",
        "print(\"Optimal cloud storage:\", optimal_cloud_storage)\n",
        "print(\"Optimal servers purchased:\", optimal_servers_purchased)\n",
        "print(\"Total cost:\", total_cost)"
      ]
    }
  ],
  "metadata": {
    "colab": {
      "provenance": []
    },
    "kernelspec": {
      "display_name": "Python 3",
      "name": "python3"
    },
    "language_info": {
      "codemirror_mode": {
        "name": "ipython",
        "version": 3
      },
      "file_extension": ".py",
      "mimetype": "text/x-python",
      "name": "python",
      "nbconvert_exporter": "python",
      "pygments_lexer": "ipython3",
      "version": "3.12.3"
    }
  },
  "nbformat": 4,
  "nbformat_minor": 0
}

{
  "cells": [
    {
      "cell_type": "markdown",
      "metadata": {
        "id": "RXCVGID3wsii"
      },
      "source": [
        "# <b> Only problem 1 and 6 will be graded. </b>"
      ]
    },
    {
      "cell_type": "markdown",
      "metadata": {
        "id": "MZk9zl2FjBJJ"
      },
      "source": [
        "## Problem 1 : Integer program\n",
        "\n",
        "\n",
        "Solve the following program by using linprog function and branch and bound method:\n",
        "$$Objective : max(3x + 4y) $$\n",
        "\\begin{equation*}\n",
        "s.t.\n",
        "\\begin{split}\n",
        "  x + 2y & \\leq 7 \\\\\n",
        "  3x  - y & \\geq 0 \\\\\n",
        "  x -  y & \\leq  2 \\\\\n",
        "  x, y  \\in Z^+ \\cup \\{0\\} \\\\\n",
        "\\end{split}\n",
        "\\end{equation*}\n",
        "\n",
        "\n"
      ]
    },
    {
      "cell_type": "markdown",
      "metadata": {},
      "source": [
        "![alt text](1.jpg)"
      ]
    },
    {
      "cell_type": "code",
      "execution_count": 27,
      "metadata": {
        "id": "58c9u8IC1aFq"
      },
      "outputs": [],
      "source": [
        "import numpy as np\n",
        "from copy import deepcopy\n",
        "from scipy.optimize import linprog\n",
        "c_T = np.array([-3, -4, 0, 0, 0])\n",
        "A = np.array(\n",
        "    [\n",
        "     [1, 2, 1, 0, 0],\n",
        "     [3, -1, 0, -1, 0],\n",
        "     [1, -1, 0, 0, 1],\n",
        "    ]\n",
        ")\n",
        "bound = [[0, None], [0, None], [0, None], [0, None], [0, None]] # bound for each variables (0, inf)\n",
        "b = [7, 0, 2]"
      ]
    },
    {
      "cell_type": "code",
      "execution_count": 28,
      "metadata": {},
      "outputs": [
        {
          "name": "stdout",
          "output_type": "stream",
          "text": [
            "optimal value is 17.666666666666668 \n",
            " optimal soultion is [3.66666667 1.66666667 0.         9.33333333 0.        ]\n"
          ]
        },
        {
          "name": "stderr",
          "output_type": "stream",
          "text": [
            "C:\\Users\\BBB\\AppData\\Local\\Temp\\ipykernel_8916\\3976203470.py:1: DeprecationWarning: `method='simplex'` is deprecated and will be removed in SciPy 1.11.0. Please use one of the HiGHS solvers (e.g. `method='highs'`) in new code.\n",
            "  result = linprog(c = c_T, A_eq = A, b_eq=b, bounds=bound, method='simplex')\n"
          ]
        }
      ],
      "source": [
        "result = linprog(c = c_T, A_eq = A, b_eq=b, bounds=bound, method='simplex')\n",
        "print(\"optimal value is {} \\n optimal soultion is {}\".format(-result.fun, result.x))"
      ]
    },
    {
      "cell_type": "code",
      "execution_count": 29,
      "metadata": {},
      "outputs": [],
      "source": [
        "#sub_problem 1\n",
        "c_T = np.array([-3, -4, 0, 0, 0])\n",
        "A = np.array(\n",
        "    [\n",
        "     [1, 2, 1, 0, 0],\n",
        "     [3, -1, 0, -1, 0],\n",
        "     [1, -1, 0, 0, 1],\n",
        "    ]\n",
        ")\n",
        "bound = np.array([[0, 3], [0, None], [0, None], [0, None], [0, None]]) # bound for each variables (0, inf)\n",
        "b = [7, 0, 2]"
      ]
    },
    {
      "cell_type": "code",
      "execution_count": 30,
      "metadata": {},
      "outputs": [
        {
          "name": "stdout",
          "output_type": "stream",
          "text": [
            "optimal value is 17.0 \n",
            " optimal soultion is [3. 2. 0. 7. 1.]\n"
          ]
        },
        {
          "name": "stderr",
          "output_type": "stream",
          "text": [
            "C:\\Users\\BBB\\AppData\\Local\\Temp\\ipykernel_8916\\3976203470.py:1: DeprecationWarning: `method='simplex'` is deprecated and will be removed in SciPy 1.11.0. Please use one of the HiGHS solvers (e.g. `method='highs'`) in new code.\n",
            "  result = linprog(c = c_T, A_eq = A, b_eq=b, bounds=bound, method='simplex')\n"
          ]
        }
      ],
      "source": [
        "result = linprog(c = c_T, A_eq = A, b_eq=b, bounds=bound, method='simplex')\n",
        "print(\"optimal value is {} \\n optimal soultion is {}\".format(-result.fun, result.x))"
      ]
    },
    {
      "cell_type": "code",
      "execution_count": 31,
      "metadata": {},
      "outputs": [],
      "source": [
        "def is_int(x):\n",
        "    for i in x:\n",
        "        if(i%1!=0):\n",
        "            return False\n",
        "    return True"
      ]
    },
    {
      "cell_type": "code",
      "execution_count": 32,
      "metadata": {},
      "outputs": [],
      "source": [
        "def solve(c_T,A,b,bound,method):\n",
        "    result = linprog(c = c_T, A_eq = A, b_eq=b, bounds=bound, method='simplex')\n",
        "    if(result.success):\n",
        "        if(is_int(result.x)):\n",
        "            return result\n",
        "        else:\n",
        "            bound_l=deepcopy(bound)\n",
        "            bound_l[0][1]=int(result.x[0])\n",
        "            bound_r=deepcopy(bound)\n",
        "            bound_r[0][0]=int(result.x[0])+1\n",
        "            result_l=solve(c_T,A,b,bound_l,method)\n",
        "            result_r=solve(c_T,A,b,bound_r,method)\n",
        "            if(result_l.fun<result_r.fun):\n",
        "                return result_l\n",
        "            else:\n",
        "                return result_r\n",
        "    else:\n",
        "        return"
      ]
    },
    {
      "cell_type": "code",
      "execution_count": 33,
      "metadata": {},
      "outputs": [
        {
          "name": "stdout",
          "output_type": "stream",
          "text": [
            "optimal value is 17.0 \n",
            " optimal soultion is [3. 2. 0. 7. 1.]\n"
          ]
        },
        {
          "name": "stderr",
          "output_type": "stream",
          "text": [
            "C:\\Users\\BBB\\AppData\\Local\\Temp\\ipykernel_8916\\2725324835.py:2: DeprecationWarning: `method='simplex'` is deprecated and will be removed in SciPy 1.11.0. Please use one of the HiGHS solvers (e.g. `method='highs'`) in new code.\n",
            "  result = linprog(c = c_T, A_eq = A, b_eq=b, bounds=bound, method='simplex')\n"
          ]
        }
      ],
      "source": [
        "result=solve(c_T,A,b,bound,\"simplex\")\n",
        "print(\"optimal value is {} \\n optimal soultion is {}\".format(-result.fun, result.x))"
      ]
    },
    {
      "cell_type": "markdown",
      "metadata": {
        "id": "m4rcUdJziDGP"
      },
      "source": [
        "# Problem 6 : Instraham\n",
        "\n",
        "\n",
        "After several crises, Hamtaro is fed up with the manufacturing business and is now looking for new business opportunities. He finds out that opening social media platform could make a hefty sum of money. Moreover, since hamsters do not currently have a social media site, Hamtaro can monopolize the market easily. Therefore, he creates Instraham, the first social media website of hamsters, by hamsters, for hamsters.\n",
        "\n",
        "After consulting with Koushi-kun, Hamtaro figures out that social network platforms often have the features shown in the table below. For each feature, the CPU load and storage load are shown with its associated business value score.\n",
        "\n",
        "|index |Feature name| CPU load (%) | storage load (%) | business value score |\n",
        "|:-:|:-:|:-:|:-:|:-:|\n",
        "| 1 | A | 20 | 30| 10|\n",
        "| 2 | B | 10 | 5| 5|\n",
        "| 3 | C| 30 | 10| 10|\n",
        "| 4 | D | 5 | 10| 3|\n",
        "| 5 | F | 15 | 30| 10|\n",
        "| 6 | G | 60 | 70| 30|\n",
        "| 7 | H | 80 | 80| 80|\n",
        "| 8 | I | 10 | 50| 20|\n",
        "| 9 | J | 3 | 50| 5|\n",
        "\n",
        "Feature A, and J is mandatory while the rest is optional. The objective is to maximize the business value score of the website while not overloading CPU and storage servers. His engineering friend, Taisho-kun, also suggests him that he could improve the website efficiency by performing the following operations:\n",
        "\n",
        "- Feature compression. This method will reduce both CPU and storage load by half, but it also reduces the business value to 55% of the original value. Every feature could be compressed, but the number of compressed features in the website is limited to two.\n",
        "\n",
        "-  The usage of storage efficient algorithm. By using this method, the feature storage load is reduced by half but it also doubles the CPU load. However, only feature H, I, J can use this method. This method could not be used concurrently with feature compression.\n",
        "\n",
        "From this information, which features should Hamtaro develop? ~~Use Amdahl's law to find the best speedup~~. Formulate the problem as an integer program and solve for an optimal solution.\n",
        "\n",
        "<b> Note : This problem is based on the blog (https://engineering.fb.com/2021/07/29/data-infrastructure/linear-programming/) </b>\n"
      ]
    },
    {
      "cell_type": "markdown",
      "metadata": {},
      "source": [
        "![alt text](6.jpg)"
      ]
    },
    {
      "cell_type": "code",
      "execution_count": 34,
      "metadata": {
        "id": "9TRfSU0q5XPQ"
      },
      "outputs": [
        {
          "name": "stdout",
          "output_type": "stream",
          "text": [
            "Optimal value of x1: 1.0\n",
            "Optimal value of x2: 1.0\n",
            "Optimal value of x3: 1.0\n",
            "Optimal value of x4: 0.0\n",
            "Optimal value of x5: 0.0\n",
            "Optimal value of x6: 0.0\n",
            "Optimal value of x7: 1.0\n",
            "Optimal value of x8: 0.0\n",
            "Optimal value of x9: 1.0\n",
            "Optimal value of p1: 1.0\n",
            "Optimal value of p2: 0.0\n",
            "Optimal value of p3: 0.0\n",
            "Optimal value of p4: 0.0\n",
            "Optimal value of p5: 0.0\n",
            "Optimal value of p6: 0.0\n",
            "Optimal value of p7: 1.0\n",
            "Optimal value of p8: 0.0\n",
            "Optimal value of p9: 0.0\n",
            "Optimal value of q7: 0.0\n",
            "Optimal value of q8: 0.0\n",
            "Optimal value of q9: 1.0\n",
            "objective value 69.5\n",
            "total cpu usage 96.0\n",
            "total storage usage 95.0\n"
          ]
        }
      ],
      "source": [
        "import pulp\n",
        "\n",
        "prob = pulp.LpProblem(\"Binary_Problem\", pulp.LpMaximize)\n",
        "\n",
        "#selected feature\n",
        "x1 = pulp.LpVariable('x1', lowBound=0, cat='Binary')  \n",
        "x2 = pulp.LpVariable('x2', lowBound=0, cat='Binary')  \n",
        "x3 = pulp.LpVariable('x3', lowBound=0, cat='Binary')  \n",
        "x4 = pulp.LpVariable('x4', lowBound=0, cat='Binary')  \n",
        "x5 = pulp.LpVariable('x5', lowBound=0, cat='Binary')  \n",
        "x6 = pulp.LpVariable('x6', lowBound=0, cat='Binary')  \n",
        "x7 = pulp.LpVariable('x7', lowBound=0, cat='Binary')  \n",
        "x8 = pulp.LpVariable('x8', lowBound=0, cat='Binary')  \n",
        "x9 = pulp.LpVariable('x9', lowBound=0, cat='Binary')  \n",
        "\n",
        "#use oper1\n",
        "p1 = pulp.LpVariable('p1', lowBound=0, cat='Binary')  \n",
        "p2 = pulp.LpVariable('p2', lowBound=0, cat='Binary')  \n",
        "p3 = pulp.LpVariable('p3', lowBound=0, cat='Binary')  \n",
        "p4 = pulp.LpVariable('p4', lowBound=0, cat='Binary')  \n",
        "p5 = pulp.LpVariable('p5', lowBound=0, cat='Binary')  \n",
        "p6 = pulp.LpVariable('p6', lowBound=0, cat='Binary')  \n",
        "p7 = pulp.LpVariable('p7', lowBound=0, cat='Binary')  \n",
        "p8 = pulp.LpVariable('p8', lowBound=0, cat='Binary')  \n",
        "p9 = pulp.LpVariable('p9', lowBound=0, cat='Binary')  \n",
        "\n",
        "#use oper2\n",
        "q7 = pulp.LpVariable('q7', lowBound=0, cat='Binary')  \n",
        "q8 = pulp.LpVariable('q8', lowBound=0, cat='Binary')  \n",
        "q9 = pulp.LpVariable('q9', lowBound=0, cat='Binary')  \n",
        "\n",
        "#obj\n",
        "prob += 10*x1+5*x2+10*x3+3*x4+10*x5+30*x6+80*x7+20*x8+5*x9-0.45*(10*p1+5*p2+10*p3+3*p4+10*p5+30*p6+80*p7+20*p8+5*p9)\n",
        "\n",
        "#st\n",
        "prob += 20*x1+10*x2+30*x3+5*x4+15*x5+60*x6+80*x7+10*x8+3*x9-0.5*(20*p1+10*p2+30*p3+5*p4+15*p5+60*p6+80*p7+10*p8+3*p9)+(80*q7+10*q8+3*q9)<=100\n",
        "prob += 30*x1+5*x2+10*x3+10*x4+30*x5+70*x6+80*x7+50*x8+50*x9-0.5*(30*p1+5*p2+10*p3+10*p4+30*p5+70*p6+80*p7+50*p8+50*p9)-0.5*(80*q7+50*q8+50*q9)<=100\n",
        "prob += x1==1\n",
        "prob += x9==1\n",
        "prob += p1+p2+p3+p4+p5+p6+p7+p8+p9<=2\n",
        "prob += x1-p1>=0\n",
        "prob += x2-p2>=0\n",
        "prob += x3-p3>=0\n",
        "prob += x4-p4>=0\n",
        "prob += x5-p5>=0\n",
        "prob += x6-p6>=0\n",
        "prob += x7-p7>=0\n",
        "prob += x8-p8>=0\n",
        "prob += x9-p9>=0\n",
        "prob += p7+q7<=1\n",
        "prob += p8+q8<=1\n",
        "prob += p9+q9<=1\n",
        "prob += x7-q7>=0\n",
        "prob += x8-q8>=0\n",
        "prob += x9-q9>=0\n",
        "\n",
        "prob.solve()\n",
        "\n",
        "print(f\"Optimal value of x1: {x1.varValue}\")\n",
        "print(f\"Optimal value of x2: {x2.varValue}\")\n",
        "print(f\"Optimal value of x3: {x3.varValue}\")\n",
        "print(f\"Optimal value of x4: {x4.varValue}\")\n",
        "print(f\"Optimal value of x5: {x5.varValue}\")\n",
        "print(f\"Optimal value of x6: {x6.varValue}\")\n",
        "print(f\"Optimal value of x7: {x7.varValue}\")\n",
        "print(f\"Optimal value of x8: {x8.varValue}\")\n",
        "print(f\"Optimal value of x9: {x9.varValue}\")\n",
        "\n",
        "print(f\"Optimal value of p1: {p1.varValue}\")\n",
        "print(f\"Optimal value of p2: {p2.varValue}\")\n",
        "print(f\"Optimal value of p3: {p3.varValue}\")\n",
        "print(f\"Optimal value of p4: {p4.varValue}\")\n",
        "print(f\"Optimal value of p5: {p5.varValue}\")\n",
        "print(f\"Optimal value of p6: {p6.varValue}\")\n",
        "print(f\"Optimal value of p7: {p7.varValue}\")\n",
        "print(f\"Optimal value of p8: {p8.varValue}\")\n",
        "print(f\"Optimal value of p9: {p9.varValue}\")\n",
        "\n",
        "print(f\"Optimal value of q7: {q7.varValue}\")\n",
        "print(f\"Optimal value of q8: {q8.varValue}\")\n",
        "print(f\"Optimal value of q9: {q9.varValue}\")\n",
        "\n",
        "print(\"objective value\",pulp.value(prob.objective))\n",
        "print(\"total cpu usage\",pulp.value(20*x1+10*x2+30*x3+5*x4+15*x5+60*x6+80*x7+10*x8+3*x9-0.5*(20*p1+10*p2+30*p3+5*p4+15*p5+60*p6+80*p7+10*p8+3*p9)+80*q7+10*q8+3*q9))\n",
        "print(\"total storage usage\",pulp.value(30*x1+5*x2+10*x3+10*x4+30*x5+70*x6+80*x7+50*x8+50*x9-0.5*(30*p1+5*p2+10*p3+10*p4+30*p5+70*p6+80*p7+50*p8+50*p9)-0.5*(80*q7+50*q8+50*q9)))\n"
      ]
    },
    {
      "cell_type": "markdown",
      "metadata": {},
      "source": [
        "ANS : ใช้feature A,B,C,H,J โดยcompress A,H และ เปลี่ยนalgo J"
      ]
    }
  ],
  "metadata": {
    "colab": {
      "collapsed_sections": [
        "GlxhJvKtEI0s",
        "KqcxWQFHkvts",
        "CZMYbeO8jIio",
        "nkz_ruMSjE1S"
      ],
      "provenance": []
    },
    "kernelspec": {
      "display_name": "Python 3",
      "name": "python3"
    },
    "language_info": {
      "codemirror_mode": {
        "name": "ipython",
        "version": 3
      },
      "file_extension": ".py",
      "mimetype": "text/x-python",
      "name": "python",
      "nbconvert_exporter": "python",
      "pygments_lexer": "ipython3",
      "version": "3.12.3"
    }
  },
  "nbformat": 4,
  "nbformat_minor": 0
}
